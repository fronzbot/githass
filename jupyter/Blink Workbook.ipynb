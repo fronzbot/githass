{
 "cells": [
  {
   "cell_type": "code",
   "execution_count": 4,
   "metadata": {
    "collapsed": true
   },
   "outputs": [],
   "source": [
    "import requests\n"
   ]
  },
  {
   "cell_type": "code",
   "execution_count": 2,
   "metadata": {
    "collapsed": false
   },
   "outputs": [
    {
     "name": "stdout",
     "output_type": "stream",
     "text": [
      "Email:kfronczak@gmail.com\n",
      "Password:········\n"
     ]
    }
   ],
   "source": [
    "import getpass\n",
    "username = input('Email:')\n",
    "password = getpass.getpass('Password:')\n"
   ]
  },
  {
   "cell_type": "code",
   "execution_count": 5,
   "metadata": {
    "collapsed": false
   },
   "outputs": [],
   "source": [
    "'''Gets Authentication Token'''\n",
    "url     = 'https://prod.immedia-semi.com/login'\n",
    "data    = '{ \"password\" : \"'+password+'\", \"client_specifier\" : \"iPhone 9.2 | 2.2 | 222\", \"email\" : \"'+username+'\" }'\n",
    "headers = {'Host': 'prod.immedia-semi.com',\n",
    "           'Content-Type': 'application/json',\n",
    "          }\n",
    "\n",
    "response = requests.post(url, headers=headers, data=data)\n",
    "\n",
    "authtoken = response.json()['authtoken']['authtoken']"
   ]
  },
  {
   "cell_type": "code",
   "execution_count": 6,
   "metadata": {
    "collapsed": false
   },
   "outputs": [
    {
     "name": "stdout",
     "output_type": "stream",
     "text": [
      "{'authtoken': {'authtoken': '5Zqe5Pt0h39ajo3oZeltug', 'message': 'auth'}, 'networks': {'2535': {'name': 'Varys', 'onboarded': True}}, 'region': {'prod': 'United States'}}\n"
     ]
    }
   ],
   "source": [
    "print(response.json())"
   ]
  },
  {
   "cell_type": "code",
   "execution_count": 9,
   "metadata": {
    "collapsed": false
   },
   "outputs": [],
   "source": [
    "'''Gets Network ID and Account ID'''\n",
    "url     = 'https://prod.immedia-semi.com/networks'\n",
    "headers = {'Host': 'prod.immedia-semi.com',\n",
    "           'TOKEN_AUTH': authtoken,\n",
    "          }\n",
    "\n",
    "response = requests.get(url, headers=headers)\n",
    "\n",
    "network_id = response.json()['networks'][0]['id']\n",
    "account_id = response.json()['networks'][0]['account_id']\n"
   ]
  },
  {
   "cell_type": "code",
   "execution_count": 10,
   "metadata": {
    "collapsed": false
   },
   "outputs": [
    {
     "name": "stdout",
     "output_type": "stream",
     "text": [
      "{'networks': [{'arm_string': 'Disarmed', 'lv_mode': 'relay', 'locale': '', 'ping_interval': 60, 'dst': True, 'sync_module_error': False, 'created_at': '2016-01-08T22:54:11+00:00', 'storage_total': 0, 'lfr_channel': 0, 'autoarm_geo_enable': False, 'id': 2535, 'busy': False, 'storage_used': 0, 'encryption_key': None, 'video_destination': 'server', 'armed': False, 'video_history_count': 4000, 'feature_plan_id': None, 'name': 'Varys', 'updated_at': '2017-01-22T00:36:55+00:00', 'autoarm_time_enable': False, 'network_key': None, 'network_origin': 'normal', 'camera_error': False, 'time_zone': 'America/New_York', 'video_count': 0, 'description': '', 'account_id': 2463}], 'summary': {'2535': {'name': 'Varys', 'onboarded': True}}}\n"
     ]
    }
   ],
   "source": [
    "print(response.json())"
   ]
  },
  {
   "cell_type": "code",
   "execution_count": 23,
   "metadata": {
    "collapsed": false
   },
   "outputs": [
    {
     "name": "stdout",
     "output_type": "stream",
     "text": [
      "Sync Module Online!\n",
      "{'syncmodule': {'onboarded': True, 'ip_address': '67.244.152.156', 'server': 'i-03767a4b62de7beb3', 'last_wifi_alert': None, 'wifi_alert_count': 0, 'offline_alert_count': 0, 'os_version': '1.1.0', 'status': 'online', 'account_id': 2463, 'serial': '270002045', 'created_at': '2016-01-08T22:56:47+00:00', 'mac_address': '00:03:7f:11:4f:ba', 'id': 1487, 'name': 'Blink SM', 'fw_version': '1.55', 'lfr_frequency': None, 'feature_plan_id': None, 'last_offline_alert': None, 'network_id': 2535, 'updated_at': '2017-01-19T03:34:51+00:00', 'last_hb': '2017-01-21T03:49:36+00:00'}}\n"
     ]
    }
   ],
   "source": [
    "'''Checks to see if sync module is online'''\n",
    "url     = 'https://prod.immedia-semi.com/network/'+str(network_id)+'/syncmodules'\n",
    "headers = {'Host': 'prod.immedia-semi.com',\n",
    "           'TOKEN_AUTH': authtoken,\n",
    "          }\n",
    "\n",
    "response = requests.get(url, headers=headers)\n",
    "\n",
    "status   = response.json()['syncmodule']['status']\n",
    "\n",
    "if status == 'online':\n",
    "    print('Sync Module Online!')\n",
    "else:\n",
    "    print('ERROR: Sync Module is '+status)\n",
    "\n",
    "print(response.json())"
   ]
  },
  {
   "cell_type": "code",
   "execution_count": 20,
   "metadata": {
    "collapsed": false
   },
   "outputs": [],
   "source": [
    "'''Arm or Disarm Module'''\n",
    "status  = 'disarm'\n",
    "url     =  'https://prod.immedia-semi.com/network/'+str(network_id)+'/'+status\n",
    "headers = {'Host': 'prod.immedia-semi.com',\n",
    "           'TOKEN_AUTH': authtoken,\n",
    "          }\n",
    "response = requests.post(url, headers=headers)\n"
   ]
  },
  {
   "cell_type": "code",
   "execution_count": 22,
   "metadata": {
    "collapsed": false
   },
   "outputs": [
    {
     "name": "stdout",
     "output_type": "stream",
     "text": [
      "{'sequence': None, 'camera_id': None, 'lfr_ack': None, 'stage_cs_sent': None, 'stage_vs': None, 'stage_dev': None, 'server': None, 'stage_rest': '2017-01-21T16:55:45+00:00', 'network_id': 2535, 'sm_ack': None, 'siren_id': None, 'firmware_id': None, 'stage_is': None, 'debug': '', 'by_whom': '', 'sync_module_id': 1487, 'stage_cs_db': None, 'duration': None, 'diagnostic': False, 'transaction': 'qnR3whVmznpNs2R1', 'parent_command_id': None, 'state_condition': 'new', 'state_stage': 'rest', 'stage_lv': None, 'updated_at': '2017-01-21T16:55:45+00:00', 'id': 68307295, 'command': 'disarm', 'account_id': 2463, 'attempts': 0, 'created_at': '2017-01-21T16:55:45+00:00', 'stage_sm': None, 'execute_time': '2017-01-21T16:55:45+00:00', 'player_transaction': 'y-BglXz-HIB_PM9-'}\n"
     ]
    }
   ],
   "source": [
    "print(response.json())"
   ]
  },
  {
   "cell_type": "code",
   "execution_count": 11,
   "metadata": {
    "collapsed": false
   },
   "outputs": [
    {
     "name": "stdout",
     "output_type": "stream",
     "text": [
      "{'Living Room': {'active': 'disabled', 'battery': 3, 'warning': 0, 'error_msg': '', 'updated_at': '2017-01-23T05:36:15+00:00', 'name': 'Living Room', 'device_id': 3875, 'errors': 0, 'temp': 67, 'armed': False, 'enabled': False, 'thumbnail': '/media/production/account/2463/network/2535/camera/3875/clip_4Ndek4vZ_2017_01_23__05_36AM', 'device_type': 'camera', 'status': 'done', 'wifi_strength': 5, 'lfr_strength': 4, 'notifications': 1}}\n"
     ]
    }
   ],
   "source": [
    "'''Get Summary'''\n",
    "url     = 'https://prod.immedia-semi.com/homescreen'\n",
    "headers = {'Host': 'prod.immedia-semi.com',\n",
    "           'TOKEN_AUTH': authtoken,\n",
    "          }\n",
    "\n",
    "response = requests.get(url, headers=headers)\n",
    "\n",
    "jData  = response.json()['devices']\n",
    "\n",
    "cameras = {}\n",
    "\n",
    "for element in jData:\n",
    "            if 'device_type' in element.keys():\n",
    "                if element['device_type'] == 'camera':\n",
    "                    cameras[element['name']] = element\n",
    "           \n",
    "    \n",
    "print(cameras)"
   ]
  },
  {
   "cell_type": "code",
   "execution_count": 51,
   "metadata": {
    "collapsed": false
   },
   "outputs": [],
   "source": [
    "'''Get list of events and save most recent image'''\n",
    "url     = 'https://prod.immedia-semi.com/events/network/'+str(network_id)\n",
    "headers = {'Host': 'prod.immedia-semi.com',\n",
    "           'TOKEN_AUTH': authtoken,\n",
    "          }\n",
    "\n",
    "response = requests.get(url, headers=headers)\n",
    "\n",
    "jData = response.json()['event']\n",
    "\n",
    "for i in range(0, len(jData)):\n",
    "    if 'video_url' in jData[i]:\n",
    "        last_event = jData[i]['video_url']\n",
    "        break\n",
    "\n",
    "if last_event:\n",
    "    video_url = 'https://prod.immedia-semi.com/'+last_event\n",
    "    image_url = 'https://prod.immedia-semi.com/'+last_event[:-3]+'jpg'\n",
    "    \n",
    "    #with open('thumb.jpg', 'wb') as handle:\n",
    "    #    response = requests.get(image_url, headers=headers)\n",
    "    #    \n",
    "    ##    if not response.ok:\n",
    "     #       print('UH-OH!!')\n",
    "     #   \n",
    "     #   for block in response.iter_content(1024):\n",
    "     #       handle.write(block)"
   ]
  },
  {
   "cell_type": "code",
   "execution_count": 52,
   "metadata": {
    "collapsed": false
   },
   "outputs": [
    {
     "name": "stdout",
     "output_type": "stream",
     "text": [
      "[{'status': None, 'sync_module_id': 1487, 'syncmodule': 1487, 'notified': False, 'duration': None, 'camera_id': None, 'account_id': 2463, 'network_id': None, 'updated_at': '2017-01-21T16:55:45+00:00', 'id': 260103702, 'siren': None, 'siren_id': None, 'camera': None, 'command_id': None, 'created_at': '2017-01-21T16:55:45+00:00', 'account': 2463, 'type': 'disarmed'}, {'status': None, 'sync_module_id': 1487, 'syncmodule': 1487, 'notified': False, 'duration': None, 'camera_id': None, 'account_id': 2463, 'network_id': None, 'updated_at': '2017-01-21T15:16:58+00:00', 'id': 260005900, 'siren': None, 'siren_id': None, 'camera': None, 'command_id': None, 'created_at': '2017-01-21T15:16:58+00:00', 'account': 2463, 'type': 'first_boot'}, {'status': None, 'sync_module_id': 1487, 'syncmodule': 1487, 'notified': False, 'duration': None, 'camera_id': None, 'account_id': 2463, 'network_id': None, 'updated_at': '2017-01-21T15:16:44+00:00', 'id': 260005658, 'siren': None, 'siren_id': None, 'camera': None, 'command_id': None, 'created_at': '2017-01-21T15:16:44+00:00', 'account': 2463, 'type': 'heartbeat'}, {'status': None, 'sync_module_id': 1487, 'syncmodule': 1487, 'notified': False, 'duration': None, 'camera_id': None, 'account_id': 2463, 'network_id': None, 'updated_at': '2017-01-20T21:15:53+00:00', 'id': 259285327, 'siren': None, 'siren_id': None, 'camera': None, 'command_id': None, 'created_at': '2017-01-20T21:15:53+00:00', 'account': 2463, 'type': 'disarmed'}, {'status': None, 'sync_module_id': 1487, 'syncmodule': 1487, 'notified': False, 'duration': None, 'camera_id': None, 'account_id': 2463, 'network_id': None, 'updated_at': '2017-01-20T04:11:02+00:00', 'id': 258541867, 'siren': None, 'siren_id': None, 'camera': None, 'command_id': None, 'created_at': '2017-01-20T04:11:02+00:00', 'account': 2463, 'type': 'disarmed'}, {'status': None, 'sync_module_id': None, 'syncmodule': None, 'notified': True, 'duration': None, 'camera_id': 3875, 'account_id': 2463, 'network_id': None, 'video_url': '/media/production/account/2463/network/2535/camera/3875/clip_5C2apjxB_2017_01_20__04_10AM.mp4', 'updated_at': '2017-01-20T04:10:57+00:00', 'id': 258541812, 'siren': None, 'camera_name': 'Living Room', 'siren_id': None, 'video_id': 153708347, 'camera': 3875, 'command_id': None, 'created_at': '2017-01-20T04:10:57+00:00', 'account': 2463, 'type': 'motion'}, {'status': None, 'sync_module_id': 1487, 'syncmodule': 1487, 'notified': False, 'duration': None, 'camera_id': None, 'account_id': 2463, 'network_id': None, 'updated_at': '2017-01-20T04:10:21+00:00', 'id': 258541453, 'siren': None, 'siren_id': None, 'camera': None, 'command_id': None, 'created_at': '2017-01-20T04:10:21+00:00', 'account': 2463, 'type': 'armed'}, {'status': None, 'sync_module_id': 1487, 'syncmodule': 1487, 'notified': False, 'duration': None, 'camera_id': None, 'account_id': 2463, 'network_id': None, 'updated_at': '2017-01-20T02:42:12+00:00', 'id': 258479448, 'siren': None, 'siren_id': None, 'camera': None, 'command_id': None, 'created_at': '2017-01-20T02:42:12+00:00', 'account': 2463, 'type': 'disarmed'}, {'status': None, 'sync_module_id': None, 'syncmodule': None, 'notified': True, 'duration': None, 'camera_id': 3875, 'account_id': 2463, 'network_id': None, 'video_url': '/media/production/account/2463/network/2535/camera/3875/clip_PrAruZ2W_2017_01_20__02_42AM.mp4', 'updated_at': '2017-01-20T02:42:11+00:00', 'id': 258479433, 'siren': None, 'camera_name': 'Living Room', 'siren_id': None, 'video_id': 153667783, 'camera': 3875, 'command_id': None, 'created_at': '2017-01-20T02:42:11+00:00', 'account': 2463, 'type': 'motion'}, {'status': None, 'sync_module_id': 1487, 'syncmodule': 1487, 'notified': False, 'duration': None, 'camera_id': None, 'account_id': 2463, 'network_id': None, 'updated_at': '2017-01-20T02:41:47+00:00', 'id': 258479102, 'siren': None, 'siren_id': None, 'camera': None, 'command_id': None, 'created_at': '2017-01-20T02:41:47+00:00', 'account': 2463, 'type': 'armed'}, {'status': None, 'sync_module_id': 1487, 'syncmodule': 1487, 'notified': False, 'duration': None, 'camera_id': None, 'account_id': 2463, 'network_id': None, 'updated_at': '2017-01-20T02:08:37+00:00', 'id': 258450778, 'siren': None, 'siren_id': None, 'camera': None, 'command_id': None, 'created_at': '2017-01-20T02:08:37+00:00', 'account': 2463, 'type': 'disarmed'}, {'status': None, 'sync_module_id': 1487, 'syncmodule': 1487, 'notified': False, 'duration': None, 'camera_id': None, 'account_id': 2463, 'network_id': None, 'updated_at': '2017-01-20T02:07:54+00:00', 'id': 258450066, 'siren': None, 'siren_id': None, 'camera': None, 'command_id': None, 'created_at': '2017-01-20T02:07:54+00:00', 'account': 2463, 'type': 'armed'}, {'status': None, 'sync_module_id': 1487, 'syncmodule': 1487, 'notified': False, 'duration': None, 'camera_id': None, 'account_id': 2463, 'network_id': None, 'updated_at': '2017-01-19T03:34:51+00:00', 'id': 257334402, 'siren': None, 'siren_id': None, 'camera': None, 'command_id': None, 'created_at': '2017-01-19T03:34:51+00:00', 'account': 2463, 'type': 'first_boot'}, {'status': None, 'sync_module_id': 1487, 'syncmodule': 1487, 'notified': False, 'duration': None, 'camera_id': None, 'account_id': 2463, 'network_id': None, 'updated_at': '2017-01-19T03:34:34+00:00', 'id': 257334229, 'siren': None, 'siren_id': None, 'camera': None, 'command_id': None, 'created_at': '2017-01-19T03:34:34+00:00', 'account': 2463, 'type': 'heartbeat'}, {'status': None, 'sync_module_id': 1487, 'syncmodule': 1487, 'notified': False, 'duration': None, 'camera_id': None, 'account_id': 2463, 'network_id': None, 'updated_at': '2017-01-18T15:54:30+00:00', 'id': 256560419, 'siren': None, 'siren_id': None, 'camera': None, 'command_id': None, 'created_at': '2017-01-18T15:54:30+00:00', 'account': 2463, 'type': 'first_boot'}, {'status': None, 'sync_module_id': 1487, 'syncmodule': 1487, 'notified': False, 'duration': None, 'camera_id': None, 'account_id': 2463, 'network_id': None, 'updated_at': '2017-01-18T15:54:26+00:00', 'id': 256560338, 'siren': None, 'siren_id': None, 'camera': None, 'command_id': None, 'created_at': '2017-01-18T15:54:26+00:00', 'account': 2463, 'type': 'heartbeat'}, {'status': None, 'sync_module_id': 1487, 'syncmodule': 1487, 'notified': False, 'duration': None, 'camera_id': None, 'account_id': 2463, 'network_id': None, 'updated_at': '2017-01-18T00:51:49+00:00', 'id': 255953853, 'siren': None, 'siren_id': None, 'camera': None, 'command_id': None, 'created_at': '2017-01-18T00:51:49+00:00', 'account': 2463, 'type': 'heartbeat'}, {'status': None, 'sync_module_id': 1487, 'syncmodule': 1487, 'notified': False, 'duration': None, 'camera_id': None, 'account_id': 2463, 'network_id': None, 'updated_at': '2017-01-18T00:46:44+00:00', 'id': 255946912, 'siren': None, 'siren_id': None, 'camera': None, 'command_id': None, 'created_at': '2017-01-18T00:46:44+00:00', 'account': 2463, 'type': 'first_boot'}, {'status': None, 'sync_module_id': 1487, 'syncmodule': 1487, 'notified': False, 'duration': None, 'camera_id': None, 'account_id': 2463, 'network_id': None, 'updated_at': '2017-01-18T00:31:19+00:00', 'id': 255793215, 'siren': None, 'siren_id': None, 'camera': None, 'command_id': None, 'created_at': '2017-01-18T00:31:19+00:00', 'account': 2463, 'type': 'heartbeat'}, {'status': None, 'sync_module_id': 1487, 'syncmodule': 1487, 'notified': False, 'duration': None, 'camera_id': None, 'account_id': 2463, 'network_id': None, 'updated_at': '2017-01-18T00:31:18+00:00', 'id': 255793132, 'siren': None, 'siren_id': None, 'camera': None, 'command_id': None, 'created_at': '2017-01-18T00:31:18+00:00', 'account': 2463, 'type': 'first_boot'}, {'status': None, 'sync_module_id': 1487, 'syncmodule': 1487, 'notified': False, 'duration': None, 'camera_id': None, 'account_id': 2463, 'network_id': None, 'updated_at': '2017-01-18T00:31:10+00:00', 'id': 255789133, 'siren': None, 'siren_id': None, 'camera': None, 'command_id': None, 'created_at': '2017-01-18T00:31:10+00:00', 'account': 2463, 'type': 'first_boot'}, {'status': None, 'sync_module_id': 1487, 'syncmodule': 1487, 'notified': False, 'duration': None, 'camera_id': None, 'account_id': 2463, 'network_id': None, 'updated_at': '2017-01-18T00:13:07+00:00', 'id': 255709686, 'siren': None, 'siren_id': None, 'camera': None, 'command_id': None, 'created_at': '2017-01-18T00:13:07+00:00', 'account': 2463, 'type': 'heartbeat'}, {'status': None, 'sync_module_id': 1487, 'syncmodule': 1487, 'notified': False, 'duration': None, 'camera_id': None, 'account_id': 2463, 'network_id': None, 'updated_at': '2017-01-18T00:13:07+00:00', 'id': 255709667, 'siren': None, 'siren_id': None, 'camera': None, 'command_id': None, 'created_at': '2017-01-18T00:13:07+00:00', 'account': 2463, 'type': 'first_boot'}, {'status': None, 'sync_module_id': 1487, 'syncmodule': 1487, 'notified': False, 'duration': None, 'camera_id': None, 'account_id': 2463, 'network_id': None, 'updated_at': '2017-01-18T00:08:37+00:00', 'id': 255551939, 'siren': None, 'siren_id': None, 'camera': None, 'command_id': None, 'created_at': '2017-01-18T00:08:37+00:00', 'account': 2463, 'type': 'heartbeat'}, {'status': None, 'sync_module_id': 1487, 'syncmodule': 1487, 'notified': False, 'duration': None, 'camera_id': None, 'account_id': 2463, 'network_id': None, 'updated_at': '2017-01-18T00:08:36+00:00', 'id': 255551531, 'siren': None, 'siren_id': None, 'camera': None, 'command_id': None, 'created_at': '2017-01-18T00:08:36+00:00', 'account': 2463, 'type': 'first_boot'}, {'status': None, 'sync_module_id': 1487, 'syncmodule': 1487, 'notified': False, 'duration': None, 'camera_id': None, 'account_id': 2463, 'network_id': None, 'updated_at': '2017-01-18T00:07:40+00:00', 'id': 255506936, 'siren': None, 'siren_id': None, 'camera': None, 'command_id': None, 'created_at': '2017-01-18T00:07:40+00:00', 'account': 2463, 'type': 'heartbeat'}, {'status': None, 'sync_module_id': 1487, 'syncmodule': 1487, 'notified': False, 'duration': None, 'camera_id': None, 'account_id': 2463, 'network_id': None, 'updated_at': '2017-01-18T00:07:39+00:00', 'id': 255506724, 'siren': None, 'siren_id': None, 'camera': None, 'command_id': None, 'created_at': '2017-01-18T00:07:39+00:00', 'account': 2463, 'type': 'first_boot'}, {'status': None, 'sync_module_id': 1487, 'syncmodule': 1487, 'notified': False, 'duration': None, 'camera_id': None, 'account_id': 2463, 'network_id': None, 'updated_at': '2017-01-18T00:06:50+00:00', 'id': 255470960, 'siren': None, 'siren_id': None, 'camera': None, 'command_id': None, 'created_at': '2017-01-18T00:06:50+00:00', 'account': 2463, 'type': 'heartbeat'}, {'status': None, 'sync_module_id': 1487, 'syncmodule': 1487, 'notified': False, 'duration': None, 'camera_id': None, 'account_id': 2463, 'network_id': None, 'updated_at': '2017-01-18T00:06:48+00:00', 'id': 255470336, 'siren': None, 'siren_id': None, 'camera': None, 'command_id': None, 'created_at': '2017-01-18T00:06:48+00:00', 'account': 2463, 'type': 'first_boot'}, {'status': None, 'sync_module_id': 1487, 'syncmodule': 1487, 'notified': False, 'duration': None, 'camera_id': None, 'account_id': 2463, 'network_id': None, 'updated_at': '2017-01-18T00:04:28+00:00', 'id': 255412409, 'siren': None, 'siren_id': None, 'camera': None, 'command_id': None, 'created_at': '2017-01-18T00:04:28+00:00', 'account': 2463, 'type': 'heartbeat'}, {'status': None, 'sync_module_id': 1487, 'syncmodule': 1487, 'notified': False, 'duration': None, 'camera_id': None, 'account_id': 2463, 'network_id': None, 'updated_at': '2017-01-18T00:03:39+00:00', 'id': 255397724, 'siren': None, 'siren_id': None, 'camera': None, 'command_id': None, 'created_at': '2017-01-18T00:03:39+00:00', 'account': 2463, 'type': 'first_boot'}, {'status': None, 'sync_module_id': 1487, 'syncmodule': 1487, 'notified': False, 'duration': None, 'camera_id': None, 'account_id': 2463, 'network_id': None, 'updated_at': '2017-01-18T00:00:22+00:00', 'id': 255316861, 'siren': None, 'siren_id': None, 'camera': None, 'command_id': None, 'created_at': '2017-01-18T00:00:22+00:00', 'account': 2463, 'type': 'heartbeat'}, {'status': None, 'sync_module_id': 1487, 'syncmodule': 1487, 'notified': False, 'duration': None, 'camera_id': None, 'account_id': 2463, 'network_id': None, 'updated_at': '2017-01-18T00:00:20+00:00', 'id': 255315855, 'siren': None, 'siren_id': None, 'camera': None, 'command_id': None, 'created_at': '2017-01-18T00:00:20+00:00', 'account': 2463, 'type': 'first_boot'}, {'status': None, 'sync_module_id': 1487, 'syncmodule': 1487, 'notified': False, 'duration': None, 'camera_id': None, 'account_id': 2463, 'network_id': None, 'updated_at': '2017-01-17T23:58:05+00:00', 'id': 255268394, 'siren': None, 'siren_id': None, 'camera': None, 'command_id': None, 'created_at': '2017-01-17T23:58:05+00:00', 'account': 2463, 'type': 'heartbeat'}, {'status': None, 'sync_module_id': 1487, 'syncmodule': 1487, 'notified': False, 'duration': None, 'camera_id': None, 'account_id': 2463, 'network_id': None, 'updated_at': '2017-01-17T23:58:03+00:00', 'id': 255267810, 'siren': None, 'siren_id': None, 'camera': None, 'command_id': None, 'created_at': '2017-01-17T23:58:03+00:00', 'account': 2463, 'type': 'first_boot'}, {'status': None, 'sync_module_id': 1487, 'syncmodule': 1487, 'notified': False, 'duration': None, 'camera_id': None, 'account_id': 2463, 'network_id': None, 'updated_at': '2017-01-17T23:50:00+00:00', 'id': 255219172, 'siren': None, 'siren_id': None, 'camera': None, 'command_id': None, 'created_at': '2017-01-17T23:50:00+00:00', 'account': 2463, 'type': 'heartbeat'}, {'status': None, 'sync_module_id': 1487, 'syncmodule': 1487, 'notified': False, 'duration': None, 'camera_id': None, 'account_id': 2463, 'network_id': None, 'updated_at': '2017-01-17T23:49:55+00:00', 'id': 255218683, 'siren': None, 'siren_id': None, 'camera': None, 'command_id': None, 'created_at': '2017-01-17T23:49:55+00:00', 'account': 2463, 'type': 'first_boot'}, {'status': None, 'sync_module_id': 1487, 'syncmodule': 1487, 'notified': False, 'duration': None, 'camera_id': None, 'account_id': 2463, 'network_id': None, 'updated_at': '2017-01-17T23:33:47+00:00', 'id': 255088743, 'siren': None, 'siren_id': None, 'camera': None, 'command_id': None, 'created_at': '2017-01-17T23:33:47+00:00', 'account': 2463, 'type': 'heartbeat'}, {'status': None, 'sync_module_id': 1487, 'syncmodule': 1487, 'notified': False, 'duration': None, 'camera_id': None, 'account_id': 2463, 'network_id': None, 'updated_at': '2017-01-17T23:33:44+00:00', 'id': 255087849, 'siren': None, 'siren_id': None, 'camera': None, 'command_id': None, 'created_at': '2017-01-17T23:33:44+00:00', 'account': 2463, 'type': 'first_boot'}, {'status': None, 'sync_module_id': 1487, 'syncmodule': 1487, 'notified': False, 'duration': None, 'camera_id': None, 'account_id': 2463, 'network_id': None, 'updated_at': '2017-01-17T23:28:50+00:00', 'id': 254955202, 'siren': None, 'siren_id': None, 'camera': None, 'command_id': None, 'created_at': '2017-01-17T23:28:50+00:00', 'account': 2463, 'type': 'heartbeat'}, {'status': None, 'sync_module_id': 1487, 'syncmodule': 1487, 'notified': False, 'duration': None, 'camera_id': None, 'account_id': 2463, 'network_id': None, 'updated_at': '2017-01-17T23:28:50+00:00', 'id': 254955041, 'siren': None, 'siren_id': None, 'camera': None, 'command_id': None, 'created_at': '2017-01-17T23:28:50+00:00', 'account': 2463, 'type': 'first_boot'}, {'status': None, 'sync_module_id': 1487, 'syncmodule': 1487, 'notified': False, 'duration': None, 'camera_id': None, 'account_id': 2463, 'network_id': None, 'updated_at': '2017-01-17T23:26:42+00:00', 'id': 254890885, 'siren': None, 'siren_id': None, 'camera': None, 'command_id': None, 'created_at': '2017-01-17T23:26:42+00:00', 'account': 2463, 'type': 'heartbeat'}, {'status': None, 'sync_module_id': 1487, 'syncmodule': 1487, 'notified': False, 'duration': None, 'camera_id': None, 'account_id': 2463, 'network_id': None, 'updated_at': '2017-01-17T23:26:41+00:00', 'id': 254890590, 'siren': None, 'siren_id': None, 'camera': None, 'command_id': None, 'created_at': '2017-01-17T23:26:41+00:00', 'account': 2463, 'type': 'first_boot'}, {'status': None, 'sync_module_id': 1487, 'syncmodule': 1487, 'notified': False, 'duration': None, 'camera_id': None, 'account_id': 2463, 'network_id': None, 'updated_at': '2017-01-17T23:23:48+00:00', 'id': 254825979, 'siren': None, 'siren_id': None, 'camera': None, 'command_id': None, 'created_at': '2017-01-17T23:23:48+00:00', 'account': 2463, 'type': 'heartbeat'}, {'status': None, 'sync_module_id': 1487, 'syncmodule': 1487, 'notified': False, 'duration': None, 'camera_id': None, 'account_id': 2463, 'network_id': None, 'updated_at': '2017-01-17T23:23:47+00:00', 'id': 254825544, 'siren': None, 'siren_id': None, 'camera': None, 'command_id': None, 'created_at': '2017-01-17T23:23:47+00:00', 'account': 2463, 'type': 'first_boot'}, {'status': None, 'sync_module_id': 1487, 'syncmodule': 1487, 'notified': False, 'duration': None, 'camera_id': None, 'account_id': 2463, 'network_id': None, 'updated_at': '2017-01-17T23:23:19+00:00', 'id': 254815505, 'siren': None, 'siren_id': None, 'camera': None, 'command_id': None, 'created_at': '2017-01-17T23:23:19+00:00', 'account': 2463, 'type': 'heartbeat'}, {'status': None, 'sync_module_id': 1487, 'syncmodule': 1487, 'notified': False, 'duration': None, 'camera_id': None, 'account_id': 2463, 'network_id': None, 'updated_at': '2017-01-17T23:23:19+00:00', 'id': 254815294, 'siren': None, 'siren_id': None, 'camera': None, 'command_id': None, 'created_at': '2017-01-17T23:23:19+00:00', 'account': 2463, 'type': 'first_boot'}, {'status': None, 'sync_module_id': 1487, 'syncmodule': 1487, 'notified': False, 'duration': None, 'camera_id': None, 'account_id': 2463, 'network_id': None, 'updated_at': '2017-01-17T23:23:19+00:00', 'id': 254815164, 'siren': None, 'siren_id': None, 'camera': None, 'command_id': None, 'created_at': '2017-01-17T23:23:19+00:00', 'account': 2463, 'type': 'heartbeat'}, {'status': None, 'sync_module_id': 1487, 'syncmodule': 1487, 'notified': False, 'duration': None, 'camera_id': None, 'account_id': 2463, 'network_id': None, 'updated_at': '2017-01-17T23:23:18+00:00', 'id': 254815008, 'siren': None, 'siren_id': None, 'camera': None, 'command_id': None, 'created_at': '2017-01-17T23:23:18+00:00', 'account': 2463, 'type': 'first_boot'}, {'status': None, 'sync_module_id': 1487, 'syncmodule': 1487, 'notified': False, 'duration': None, 'camera_id': None, 'account_id': 2463, 'network_id': None, 'updated_at': '2017-01-17T23:23:00+00:00', 'id': 254807581, 'siren': None, 'siren_id': None, 'camera': None, 'command_id': None, 'created_at': '2017-01-17T23:23:00+00:00', 'account': 2463, 'type': 'heartbeat'}, {'status': None, 'sync_module_id': 1487, 'syncmodule': 1487, 'notified': False, 'duration': None, 'camera_id': None, 'account_id': 2463, 'network_id': None, 'updated_at': '2017-01-17T23:22:59+00:00', 'id': 254807048, 'siren': None, 'siren_id': None, 'camera': None, 'command_id': None, 'created_at': '2017-01-17T23:22:59+00:00', 'account': 2463, 'type': 'first_boot'}, {'status': None, 'sync_module_id': 1487, 'syncmodule': 1487, 'notified': False, 'duration': None, 'camera_id': None, 'account_id': 2463, 'network_id': None, 'updated_at': '2017-01-17T23:15:47+00:00', 'id': 254666651, 'siren': None, 'siren_id': None, 'camera': None, 'command_id': None, 'created_at': '2017-01-17T23:15:47+00:00', 'account': 2463, 'type': 'heartbeat'}, {'status': None, 'sync_module_id': 1487, 'syncmodule': 1487, 'notified': False, 'duration': None, 'camera_id': None, 'account_id': 2463, 'network_id': None, 'updated_at': '2017-01-16T10:52:34+00:00', 'id': 252709662, 'siren': None, 'siren_id': None, 'camera': None, 'command_id': None, 'created_at': '2017-01-16T10:52:34+00:00', 'account': 2463, 'type': 'first_boot'}, {'status': None, 'sync_module_id': 1487, 'syncmodule': 1487, 'notified': False, 'duration': None, 'camera_id': None, 'account_id': 2463, 'network_id': None, 'updated_at': '2017-01-16T10:52:28+00:00', 'id': 252709630, 'siren': None, 'siren_id': None, 'camera': None, 'command_id': None, 'created_at': '2017-01-16T10:52:28+00:00', 'account': 2463, 'type': 'heartbeat'}, {'status': None, 'sync_module_id': 1487, 'syncmodule': 1487, 'notified': False, 'duration': None, 'camera_id': None, 'account_id': 2463, 'network_id': None, 'updated_at': '2017-01-15T17:27:16+00:00', 'id': 251990490, 'siren': None, 'siren_id': None, 'camera': None, 'command_id': None, 'created_at': '2017-01-15T17:27:16+00:00', 'account': 2463, 'type': 'heartbeat'}, {'status': None, 'sync_module_id': 1487, 'syncmodule': 1487, 'notified': False, 'duration': None, 'camera_id': None, 'account_id': 2463, 'network_id': None, 'updated_at': '2017-01-15T17:27:14+00:00', 'id': 251990455, 'siren': None, 'siren_id': None, 'camera': None, 'command_id': None, 'created_at': '2017-01-15T17:27:14+00:00', 'account': 2463, 'type': 'first_boot'}, {'status': None, 'sync_module_id': 1487, 'syncmodule': 1487, 'notified': False, 'duration': None, 'camera_id': None, 'account_id': 2463, 'network_id': None, 'updated_at': '2017-01-15T16:50:05+00:00', 'id': 251957385, 'siren': None, 'siren_id': None, 'camera': None, 'command_id': None, 'created_at': '2017-01-15T16:50:05+00:00', 'account': 2463, 'type': 'heartbeat'}, {'status': None, 'sync_module_id': 1487, 'syncmodule': 1487, 'notified': False, 'duration': None, 'camera_id': None, 'account_id': 2463, 'network_id': None, 'updated_at': '2017-01-15T16:49:57+00:00', 'id': 251957251, 'siren': None, 'siren_id': None, 'camera': None, 'command_id': None, 'created_at': '2017-01-15T16:49:57+00:00', 'account': 2463, 'type': 'first_boot'}, {'status': None, 'sync_module_id': 1487, 'syncmodule': 1487, 'notified': False, 'duration': None, 'camera_id': None, 'account_id': 2463, 'network_id': None, 'updated_at': '2017-01-14T19:05:51+00:00', 'id': 251096494, 'siren': None, 'siren_id': None, 'camera': None, 'command_id': None, 'created_at': '2017-01-14T19:05:51+00:00', 'account': 2463, 'type': 'first_boot'}, {'status': None, 'sync_module_id': 1487, 'syncmodule': 1487, 'notified': False, 'duration': None, 'camera_id': None, 'account_id': 2463, 'network_id': None, 'updated_at': '2017-01-14T19:05:43+00:00', 'id': 251096372, 'siren': None, 'siren_id': None, 'camera': None, 'command_id': None, 'created_at': '2017-01-14T19:05:43+00:00', 'account': 2463, 'type': 'heartbeat'}]\n"
     ]
    }
   ],
   "source": [
    "print(jData)"
   ]
  },
  {
   "cell_type": "code",
   "execution_count": 42,
   "metadata": {
    "collapsed": false
   },
   "outputs": [
    {
     "name": "stdout",
     "output_type": "stream",
     "text": [
      "{'code': 500, 'message': 'Camera not found'}\n"
     ]
    }
   ],
   "source": [
    "'''New thumbnail'''\n",
    "url     = 'https://prod.immedia-semi.com/network/'+str(network_id)+'/camera/'+str(cameras['Living Room']['id'])+'/thumbnail'\n",
    "headers = {'Host': 'prod.immedia-semi.com',\n",
    "           'TOKEN_AUTH': authtoken,\n",
    "          }\n",
    "\n",
    "response = requests.post(url, headers=headers)\n",
    "print(response.json())"
   ]
  },
  {
   "cell_type": "code",
   "execution_count": 40,
   "metadata": {
    "collapsed": false
   },
   "outputs": [
    {
     "name": "stdout",
     "output_type": "stream",
     "text": [
      "https://prod.immedia-semi.com/network/2535/camera/3875/thumbnail\n"
     ]
    }
   ],
   "source": [
    "print(url)"
   ]
  },
  {
   "cell_type": "code",
   "execution_count": 50,
   "metadata": {
    "collapsed": false
   },
   "outputs": [
    {
     "ename": "KeyError",
     "evalue": "'testd'",
     "output_type": "error",
     "traceback": [
      "\u001b[0;31m---------------------------------------------------------------------------\u001b[0m",
      "\u001b[0;31mKeyError\u001b[0m                                  Traceback (most recent call last)",
      "\u001b[0;32m<ipython-input-50-6f43b98bb379>\u001b[0m in \u001b[0;36m<module>\u001b[0;34m()\u001b[0m\n\u001b[1;32m      1\u001b[0m \u001b[0mx\u001b[0m\u001b[0;34m=\u001b[0m \u001b[0;34m{\u001b[0m\u001b[0;34m'test'\u001b[0m\u001b[0;34m:\u001b[0m\u001b[0;36m123\u001b[0m\u001b[0;34m,\u001b[0m \u001b[0;34m'name'\u001b[0m\u001b[0;34m:\u001b[0m\u001b[0;34m'req'\u001b[0m\u001b[0;34m}\u001b[0m\u001b[0;34m\u001b[0m\u001b[0m\n\u001b[1;32m      2\u001b[0m \u001b[0;34m\u001b[0m\u001b[0m\n\u001b[0;32m----> 3\u001b[0;31m \u001b[0;32mif\u001b[0m \u001b[0;34m'test'\u001b[0m \u001b[0;32min\u001b[0m \u001b[0mx\u001b[0m\u001b[0;34m.\u001b[0m\u001b[0mkeys\u001b[0m\u001b[0;34m(\u001b[0m\u001b[0;34m)\u001b[0m \u001b[0;32mand\u001b[0m \u001b[0mx\u001b[0m\u001b[0;34m[\u001b[0m\u001b[0;34m'testd'\u001b[0m\u001b[0;34m]\u001b[0m \u001b[0;34m==\u001b[0m \u001b[0;36m123\u001b[0m\u001b[0;34m:\u001b[0m\u001b[0;34m\u001b[0m\u001b[0m\n\u001b[0m\u001b[1;32m      4\u001b[0m     \u001b[0mprint\u001b[0m\u001b[0;34m(\u001b[0m\u001b[0mx\u001b[0m\u001b[0;34m[\u001b[0m\u001b[0;34m'name'\u001b[0m\u001b[0;34m]\u001b[0m\u001b[0;34m)\u001b[0m\u001b[0;34m\u001b[0m\u001b[0m\n\u001b[1;32m      5\u001b[0m \u001b[0;32melse\u001b[0m\u001b[0;34m:\u001b[0m\u001b[0;34m\u001b[0m\u001b[0m\n",
      "\u001b[0;31mKeyError\u001b[0m: 'testd'"
     ]
    }
   ],
   "source": [
    "x= {'test':123, 'name':'req'}\n",
    "\n",
    "if 'test' in x.keys() and x['testd'] == 123:\n",
    "    print(x['name'])\n",
    "else:\n",
    "    print('Oops')"
   ]
  },
  {
   "cell_type": "code",
   "execution_count": 57,
   "metadata": {
    "collapsed": false
   },
   "outputs": [
    {
     "name": "stdout",
     "output_type": "stream",
     "text": [
      "['https:', '', 'prod.immedia-semi.com', 'events', 'network', '2535']\n"
     ]
    }
   ],
   "source": [
    "print(url.split(\"/\"))"
   ]
  },
  {
   "cell_type": "code",
   "execution_count": 60,
   "metadata": {
    "collapsed": false
   },
   "outputs": [
    {
     "name": "stdout",
     "output_type": "stream",
     "text": [
      "abc\n",
      "def\n"
     ]
    }
   ],
   "source": [
    "x = {'123':'abc', '456':'def'}\n",
    "for key, value in x.items():\n",
    "    print(value)"
   ]
  },
  {
   "cell_type": "code",
   "execution_count": 8,
   "metadata": {
    "collapsed": false
   },
   "outputs": [
    {
     "name": "stdout",
     "output_type": "stream",
     "text": [
      "United States\n"
     ]
    }
   ],
   "source": [
    "(key, value), = response.json()['region'].items()\n",
    "print(value)\n"
   ]
  },
  {
   "cell_type": "code",
   "execution_count": null,
   "metadata": {
    "collapsed": true
   },
   "outputs": [],
   "source": []
  }
 ],
 "metadata": {
  "kernelspec": {
   "display_name": "Python 3",
   "language": "python",
   "name": "python3"
  },
  "language_info": {
   "codemirror_mode": {
    "name": "ipython",
    "version": 3
   },
   "file_extension": ".py",
   "mimetype": "text/x-python",
   "name": "python",
   "nbconvert_exporter": "python",
   "pygments_lexer": "ipython3",
   "version": "3.4.2"
  }
 },
 "nbformat": 4,
 "nbformat_minor": 2
}
