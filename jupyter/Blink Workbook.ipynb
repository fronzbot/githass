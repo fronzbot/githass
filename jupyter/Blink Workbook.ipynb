{
 "cells": [
  {
   "cell_type": "code",
   "execution_count": 2,
   "metadata": {
    "collapsed": true
   },
   "outputs": [],
   "source": [
    "import requests\n"
   ]
  },
  {
   "cell_type": "code",
   "execution_count": 3,
   "metadata": {
    "collapsed": false
   },
   "outputs": [
    {
     "name": "stdout",
     "output_type": "stream",
     "text": [
      "Email:kfronczak@gmail.com\n",
      "Password:········\n"
     ]
    }
   ],
   "source": [
    "import getpass\n",
    "username = input('Email:')\n",
    "password = getpass.getpass('Password:')\n"
   ]
  },
  {
   "cell_type": "code",
   "execution_count": 4,
   "metadata": {
    "collapsed": false
   },
   "outputs": [],
   "source": [
    "'''Gets Authentication Token'''\n",
    "url     = 'https://prod.immedia-semi.com/login'\n",
    "data    = '{ \"password\" : \"'+password+'\", \"client_specifier\" : \"iPhone 9.2 | 2.2 | 222\", \"email\" : \"'+username+'\" }'\n",
    "headers = {'Host': 'prod.immedia-semi.com',\n",
    "           'Content-Type': 'application/json',\n",
    "          }\n",
    "\n",
    "response = requests.post(url, headers=headers, data=data)\n",
    "\n",
    "authtoken = response.json()['authtoken']['authtoken']"
   ]
  },
  {
   "cell_type": "code",
   "execution_count": 21,
   "metadata": {
    "collapsed": false
   },
   "outputs": [],
   "source": [
    "'''Gets Network ID and Account ID'''\n",
    "url     = 'https://prod.immedia-semi.com/networks'\n",
    "headers = {'Host': 'prod.immedia-semi.com',\n",
    "           'TOKEN_AUTH': authtoken,\n",
    "          }\n",
    "\n",
    "response = requests.get(url, headers=headers)\n",
    "\n",
    "network_id = response.json()['networks'][0]['id']\n",
    "account_id = response.json()['networks'][0]['account_id']\n"
   ]
  },
  {
   "cell_type": "code",
   "execution_count": 27,
   "metadata": {
    "collapsed": false
   },
   "outputs": [
    {
     "name": "stdout",
     "output_type": "stream",
     "text": [
      "Sync Module Online!\n"
     ]
    }
   ],
   "source": [
    "'''Checks to see if sync module is online'''\n",
    "url     = 'https://prod.immedia-semi.com/network/'+str(network_id)+'/syncmodules'\n",
    "headers = {'Host': 'prod.immedia-semi.com',\n",
    "           'TOKEN_AUTH': authtoken,\n",
    "          }\n",
    "\n",
    "response = requests.get(url, headers=headers)\n",
    "\n",
    "status   = response.json()['syncmodule']['status']\n",
    "\n",
    "if status == 'online':\n",
    "    print('Sync Module Online!')\n",
    "else:\n",
    "    print('ERROR: Sync Module is '+status)\n",
    "\n"
   ]
  },
  {
   "cell_type": "code",
   "execution_count": 30,
   "metadata": {
    "collapsed": false
   },
   "outputs": [
    {
     "name": "stdout",
     "output_type": "stream",
     "text": [
      "{'created_at': '2017-01-20T02:08:37+00:00', 'stage_cs_db': None, 'sm_ack': None, 'sync_module_id': 1487, 'stage_lv': None, 'player_transaction': 'rwCN9YrfcQ58Rvx2', 'stage_dev': None, 'sequence': None, 'server': None, 'parent_command_id': None, 'network_id': 2535, 'id': 67829116, 'duration': None, 'transaction': 'LjwgfvsRgpS4gvie', 'command': 'disarm', 'attempts': 0, 'stage_sm': None, 'firmware_id': None, 'execute_time': '2017-01-20T02:08:37+00:00', 'state_condition': 'new', 'updated_at': '2017-01-20T02:08:37+00:00', 'stage_rest': '2017-01-20T02:08:37+00:00', 'diagnostic': False, 'siren_id': None, 'stage_cs_sent': None, 'stage_is': None, 'account_id': 2463, 'stage_vs': None, 'debug': '', 'state_stage': 'rest', 'camera_id': None, 'by_whom': '', 'lfr_ack': None}\n"
     ]
    }
   ],
   "source": [
    "'''Arm or Disarm Module'''\n",
    "status  = 'disarm'\n",
    "url     =  'https://prod.immedia-semi.com/network/'+str(network_id)+'/'+status\n",
    "headers = {'Host': 'prod.immedia-semi.com',\n",
    "           'TOKEN_AUTH': authtoken,\n",
    "          }\n",
    "response = requests.post(url, headers=headers)\n"
   ]
  },
  {
   "cell_type": "code",
   "execution_count": 51,
   "metadata": {
    "collapsed": false
   },
   "outputs": [
    {
     "name": "stdout",
     "output_type": "stream",
     "text": [
      "{'Living Room': {'status': 'disarmed', 'id': 3875, 'temperature': 69, 'battery': 3}}\n"
     ]
    }
   ],
   "source": [
    "'''Get Summary'''\n",
    "url     = 'https://prod.immedia-semi.com/homescreen'\n",
    "headers = {'Host': 'prod.immedia-semi.com',\n",
    "           'TOKEN_AUTH': authtoken,\n",
    "          }\n",
    "\n",
    "response = requests.get(url, headers=headers)\n",
    "\n",
    "jData  = response.json()['devices']\n",
    "\n",
    "cameras = {}\n",
    "\n",
    "for i in range(0, len(jData)-1):\n",
    "    if jData[i]['device_type'] == 'camera':\n",
    "        cameras[jData[i]['name']] = {'id':jData[i]['device_id'],\n",
    "                                     'status':jData[i]['active'],\n",
    "                                     'temperature':jData[i]['temp'],\n",
    "                                     'battery':jData[i]['battery']}\n",
    "    \n",
    "print(cameras)"
   ]
  },
  {
   "cell_type": "code",
   "execution_count": 64,
   "metadata": {
    "collapsed": false
   },
   "outputs": [],
   "source": [
    "'''Get list of events and save most recent image'''\n",
    "url     = 'https://prod.immedia-semi.com/events/network/'+str(network_id)\n",
    "headers = {'Host': 'prod.immedia-semi.com',\n",
    "           'TOKEN_AUTH': authtoken,\n",
    "          }\n",
    "\n",
    "response = requests.get(url, headers=headers)\n",
    "\n",
    "jData = response.json()['event']\n",
    "\n",
    "for i in range(0, len(jData)):\n",
    "    if 'video_url' in jData[i]:\n",
    "        last_event = jData[i]['video_url']\n",
    "        break\n",
    "\n",
    "if last_event:\n",
    "    video_url = 'https://prod.immedia-semi.com/'+last_event\n",
    "    image_url = 'https://prod.immedia-semi.com/'+last_event[:-3]+'jpg'\n",
    "    \n",
    "    with open('thumb.jpg', 'wb') as handle:\n",
    "        response = requests.get(image_url, headers=headers)\n",
    "        \n",
    "        if not response.ok:\n",
    "            print('UH-OH!!')\n",
    "        \n",
    "        for block in response.iter_content(1024):\n",
    "            handle.write(block)"
   ]
  },
  {
   "cell_type": "code",
   "execution_count": 65,
   "metadata": {
    "collapsed": false
   },
   "outputs": [
    {
     "ename": "ImportError",
     "evalue": "No module named 'homeassistant'",
     "output_type": "error",
     "traceback": [
      "\u001b[0;31m---------------------------------------------------------------------------\u001b[0m",
      "\u001b[0;31mImportError\u001b[0m                               Traceback (most recent call last)",
      "\u001b[0;32m<ipython-input-65-625be3c05d4f>\u001b[0m in \u001b[0;36m<module>\u001b[0;34m()\u001b[0m\n\u001b[0;32m----> 1\u001b[0;31m \u001b[0;32mimport\u001b[0m \u001b[0mhomeassistant\u001b[0m\u001b[0;34m.\u001b[0m\u001b[0mcomponents\u001b[0m\u001b[0;34m.\u001b[0m\u001b[0mhttp\u001b[0m\u001b[0;34m.\u001b[0m\u001b[0mconst\u001b[0m\u001b[0;34m\u001b[0m\u001b[0m\n\u001b[0m",
      "\u001b[0;31mImportError\u001b[0m: No module named 'homeassistant'"
     ]
    }
   ],
   "source": [
    "import homeassistant.components.http.const"
   ]
  },
  {
   "cell_type": "code",
   "execution_count": null,
   "metadata": {
    "collapsed": true
   },
   "outputs": [],
   "source": []
  }
 ],
 "metadata": {
  "kernelspec": {
   "display_name": "Python 3",
   "language": "python",
   "name": "python3"
  },
  "language_info": {
   "codemirror_mode": {
    "name": "ipython",
    "version": 3
   },
   "file_extension": ".py",
   "mimetype": "text/x-python",
   "name": "python",
   "nbconvert_exporter": "python",
   "pygments_lexer": "ipython3",
   "version": "3.4.2"
  }
 },
 "nbformat": 4,
 "nbformat_minor": 2
}
