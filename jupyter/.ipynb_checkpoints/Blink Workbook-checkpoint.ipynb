{
 "cells": [
  {
   "cell_type": "code",
   "execution_count": 1,
   "metadata": {
    "collapsed": true
   },
   "outputs": [],
   "source": [
    "import requests\n"
   ]
  },
  {
   "cell_type": "code",
   "execution_count": 4,
   "metadata": {
    "collapsed": false
   },
   "outputs": [
    {
     "name": "stdout",
     "output_type": "stream",
     "text": [
      "Email:kfronczak@gmail.com\n",
      "Password:········\n"
     ]
    }
   ],
   "source": [
    "import getpass\n",
    "username = input('Email:')\n",
    "password = getpass.getpass('Password:')\n"
   ]
  },
  {
   "cell_type": "code",
   "execution_count": 15,
   "metadata": {
    "collapsed": false
   },
   "outputs": [],
   "source": [
    "'''Gets Authentication Token'''\n",
    "url     = 'https://prod.immedia-semi.com/login'\n",
    "data    = '{ \"password\" : \"'+password+'\", \"client_specifier\" : \"iPhone 9.2 | 2.2 | 222\", \"email\" : \"'+username+'\" }'\n",
    "headers = {'Host': 'prod.immedia-semi.com',\n",
    "           'Content-Type': 'application/json',\n",
    "          }\n",
    "\n",
    "response = requests.post(url, headers=headers, data=data)\n",
    "\n",
    "authtoken = response.json()['authtoken']['authtoken']"
   ]
  },
  {
   "cell_type": "code",
   "execution_count": 16,
   "metadata": {
    "collapsed": false
   },
   "outputs": [
    {
     "name": "stdout",
     "output_type": "stream",
     "text": [
      "{'region': {'prod': 'United States'}, 'networks': {'2535': {'onboarded': True, 'name': 'Varys'}}, 'authtoken': {'authtoken': 'HSb9e7f8mC6lBUHWE6egHA', 'message': 'auth'}}\n"
     ]
    }
   ],
   "source": [
    "print(response.json())"
   ]
  },
  {
   "cell_type": "code",
   "execution_count": 17,
   "metadata": {
    "collapsed": false
   },
   "outputs": [],
   "source": [
    "'''Gets Network ID and Account ID'''\n",
    "url     = 'https://prod.immedia-semi.com/networks'\n",
    "headers = {'Host': 'prod.immedia-semi.com',\n",
    "           'TOKEN_AUTH': authtoken,\n",
    "          }\n",
    "\n",
    "response = requests.get(url, headers=headers)\n",
    "\n",
    "network_id = response.json()['networks'][0]['id']\n",
    "account_id = response.json()['networks'][0]['account_id']\n"
   ]
  },
  {
   "cell_type": "code",
   "execution_count": 22,
   "metadata": {
    "collapsed": false
   },
   "outputs": [
    {
     "name": "stdout",
     "output_type": "stream",
     "text": [
      "{'summary': {'2535': {'onboarded': True, 'name': 'Varys'}}, 'networks': [{'autoarm_time_enable': False, 'sync_module_error': False, 'account_id': 2463, 'lfr_channel': 0, 'locale': '', 'created_at': '2016-01-08T22:54:11+00:00', 'name': 'Varys', 'storage_total': 0, 'feature_plan_id': None, 'ping_interval': 60, 'description': '', 'busy': False, 'dst': True, 'autoarm_geo_enable': False, 'armed': False, 'network_origin': 'normal', 'video_destination': 'server', 'arm_string': 'Disarmed', 'network_key': None, 'id': 2535, 'video_history_count': 4000, 'updated_at': '2017-01-20T04:11:02+00:00', 'video_count': 0, 'lv_mode': 'relay', 'camera_error': False, 'time_zone': 'America/New_York', 'encryption_key': None, 'storage_used': 0}]}\n"
     ]
    }
   ],
   "source": [
    "print(response.json())"
   ]
  },
  {
   "cell_type": "code",
   "execution_count": 23,
   "metadata": {
    "collapsed": false
   },
   "outputs": [
    {
     "name": "stdout",
     "output_type": "stream",
     "text": [
      "Sync Module Online!\n",
      "{'syncmodule': {'onboarded': True, 'ip_address': '67.244.152.156', 'server': 'i-03767a4b62de7beb3', 'last_wifi_alert': None, 'wifi_alert_count': 0, 'offline_alert_count': 0, 'os_version': '1.1.0', 'status': 'online', 'account_id': 2463, 'serial': '270002045', 'created_at': '2016-01-08T22:56:47+00:00', 'mac_address': '00:03:7f:11:4f:ba', 'id': 1487, 'name': 'Blink SM', 'fw_version': '1.55', 'lfr_frequency': None, 'feature_plan_id': None, 'last_offline_alert': None, 'network_id': 2535, 'updated_at': '2017-01-19T03:34:51+00:00', 'last_hb': '2017-01-21T03:49:36+00:00'}}\n"
     ]
    }
   ],
   "source": [
    "'''Checks to see if sync module is online'''\n",
    "url     = 'https://prod.immedia-semi.com/network/'+str(network_id)+'/syncmodules'\n",
    "headers = {'Host': 'prod.immedia-semi.com',\n",
    "           'TOKEN_AUTH': authtoken,\n",
    "          }\n",
    "\n",
    "response = requests.get(url, headers=headers)\n",
    "\n",
    "status   = response.json()['syncmodule']['status']\n",
    "\n",
    "if status == 'online':\n",
    "    print('Sync Module Online!')\n",
    "else:\n",
    "    print('ERROR: Sync Module is '+status)\n",
    "\n",
    "print(response.json())"
   ]
  },
  {
   "cell_type": "code",
   "execution_count": 20,
   "metadata": {
    "collapsed": false
   },
   "outputs": [],
   "source": [
    "'''Arm or Disarm Module'''\n",
    "status  = 'disarm'\n",
    "url     =  'https://prod.immedia-semi.com/network/'+str(network_id)+'/'+status\n",
    "headers = {'Host': 'prod.immedia-semi.com',\n",
    "           'TOKEN_AUTH': authtoken,\n",
    "          }\n",
    "response = requests.post(url, headers=headers)\n"
   ]
  },
  {
   "cell_type": "code",
   "execution_count": 22,
   "metadata": {
    "collapsed": false
   },
   "outputs": [
    {
     "name": "stdout",
     "output_type": "stream",
     "text": [
      "{'sequence': None, 'camera_id': None, 'lfr_ack': None, 'stage_cs_sent': None, 'stage_vs': None, 'stage_dev': None, 'server': None, 'stage_rest': '2017-01-21T16:55:45+00:00', 'network_id': 2535, 'sm_ack': None, 'siren_id': None, 'firmware_id': None, 'stage_is': None, 'debug': '', 'by_whom': '', 'sync_module_id': 1487, 'stage_cs_db': None, 'duration': None, 'diagnostic': False, 'transaction': 'qnR3whVmznpNs2R1', 'parent_command_id': None, 'state_condition': 'new', 'state_stage': 'rest', 'stage_lv': None, 'updated_at': '2017-01-21T16:55:45+00:00', 'id': 68307295, 'command': 'disarm', 'account_id': 2463, 'attempts': 0, 'created_at': '2017-01-21T16:55:45+00:00', 'stage_sm': None, 'execute_time': '2017-01-21T16:55:45+00:00', 'player_transaction': 'y-BglXz-HIB_PM9-'}\n"
     ]
    }
   ],
   "source": [
    "print(response.json())"
   ]
  },
  {
   "cell_type": "code",
   "execution_count": 36,
   "metadata": {
    "collapsed": false
   },
   "outputs": [
    {
     "name": "stdout",
     "output_type": "stream",
     "text": [
      "{'Living Room': {'id': 3875, 'battery': 3, 'armed': False, 'notifications': 1, 'temperature': 70}}\n",
      "{'devices': [{'status': 'done', 'lfr_strength': 4, 'notifications': 1, 'device_id': 3875, 'thumbnail': '/media/production/account/2463/network/2535/camera/3875/clip_sMXtoNJ4_2016_05_06__19_12PM', 'wifi_strength': 5, 'enabled': True, 'warning': 0, 'temp': 70, 'errors': 0, 'armed': False, 'battery': 3, 'active': 'disarmed', 'device_type': 'camera', 'updated_at': '2017-01-20T04:10:51+00:00', 'name': 'Living Room', 'error_msg': ''}, {'status': 'online', 'errors': 0, 'device_type': 'sync_module', 'device_id': 1487, 'updated_at': '2017-01-21T15:16:58+00:00', 'last_hb': '2017-01-21T18:28:43+00:00', 'notifications': 0, 'error_msg': '', 'warning': 0}], 'network': {'status': 'ok', 'wifi_strength': 5, 'name': 'Varys', 'armed': False, 'notifications': 1, 'error_msg': '', 'warning': 0}, 'account': {'notifications': 1}}\n"
     ]
    }
   ],
   "source": [
    "'''Get Summary'''\n",
    "url     = 'https://prod.immedia-semi.com/homescreen'\n",
    "headers = {'Host': 'prod.immedia-semi.com',\n",
    "           'TOKEN_AUTH': authtoken,\n",
    "          }\n",
    "\n",
    "response = requests.get(url, headers=headers)\n",
    "\n",
    "jData  = response.json()['devices']\n",
    "\n",
    "cameras = {}\n",
    "\n",
    "for element in jData:\n",
    "            if 'device_type' in element.keys():\n",
    "                if element['device_type'] == 'camera':\n",
    "                    cameras[element['name']] = {'id':element['device_id'],\n",
    "                                                      'armed':element['armed'],\n",
    "                                                      'temperature':element['temp'],\n",
    "                                                      'battery':element['battery'],\n",
    "                                                      'notifications':element['notifications']\n",
    "                                                     }\n",
    "           \n",
    "    \n",
    "print(cameras)\n",
    "print(response.json())"
   ]
  },
  {
   "cell_type": "code",
   "execution_count": 32,
   "metadata": {
    "collapsed": false
   },
   "outputs": [],
   "source": [
    "'''Get list of events and save most recent image'''\n",
    "url     = 'https://prod.immedia-semi.com/events/network/'+str(network_id)\n",
    "headers = {'Host': 'prod.immedia-semi.com',\n",
    "           'TOKEN_AUTH': authtoken,\n",
    "          }\n",
    "\n",
    "response = requests.get(url, headers=headers)\n",
    "\n",
    "jData = response.json()['event']\n",
    "\n",
    "for i in range(0, len(jData)):\n",
    "    if 'video_url' in jData[i]:\n",
    "        last_event = jData[i]['video_url']\n",
    "        break\n",
    "\n",
    "if last_event:\n",
    "    video_url = 'https://prod.immedia-semi.com/'+last_event\n",
    "    image_url = 'https://prod.immedia-semi.com/'+last_event[:-3]+'jpg'\n",
    "    \n",
    "    #with open('thumb.jpg', 'wb') as handle:\n",
    "    #    response = requests.get(image_url, headers=headers)\n",
    "    #    \n",
    "    ##    if not response.ok:\n",
    "     #       print('UH-OH!!')\n",
    "     #   \n",
    "     #   for block in response.iter_content(1024):\n",
    "     #       handle.write(block)"
   ]
  },
  {
   "cell_type": "code",
   "execution_count": 37,
   "metadata": {
    "collapsed": false
   },
   "outputs": [
    {
     "name": "stdout",
     "output_type": "stream",
     "text": [
      "{'id': 3875, 'battery': 3, 'armed': False, 'notifications': 1, 'temperature': 70}\n"
     ]
    }
   ],
   "source": [
    "print(cameras['Living Room'])"
   ]
  },
  {
   "cell_type": "code",
   "execution_count": 42,
   "metadata": {
    "collapsed": false
   },
   "outputs": [
    {
     "name": "stdout",
     "output_type": "stream",
     "text": [
      "{'code': 500, 'message': 'Camera not found'}\n"
     ]
    }
   ],
   "source": [
    "'''New thumbnail'''\n",
    "url     = 'https://prod.immedia-semi.com/network/'+str(network_id)+'/camera/'+str(cameras['Living Room']['id'])+'/thumbnail'\n",
    "headers = {'Host': 'prod.immedia-semi.com',\n",
    "           'TOKEN_AUTH': authtoken,\n",
    "          }\n",
    "\n",
    "response = requests.post(url, headers=headers)\n",
    "print(response.json())"
   ]
  },
  {
   "cell_type": "code",
   "execution_count": 40,
   "metadata": {
    "collapsed": false
   },
   "outputs": [
    {
     "name": "stdout",
     "output_type": "stream",
     "text": [
      "https://prod.immedia-semi.com/network/2535/camera/3875/thumbnail\n"
     ]
    }
   ],
   "source": [
    "print(url)"
   ]
  },
  {
   "cell_type": "code",
   "execution_count": null,
   "metadata": {
    "collapsed": true
   },
   "outputs": [],
   "source": []
  }
 ],
 "metadata": {
  "kernelspec": {
   "display_name": "Python 3",
   "language": "python",
   "name": "python3"
  },
  "language_info": {
   "codemirror_mode": {
    "name": "ipython",
    "version": 3
   },
   "file_extension": ".py",
   "mimetype": "text/x-python",
   "name": "python",
   "nbconvert_exporter": "python",
   "pygments_lexer": "ipython3",
   "version": "3.4.2"
  }
 },
 "nbformat": 4,
 "nbformat_minor": 2
}
